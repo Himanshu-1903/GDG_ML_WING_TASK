{
  "nbformat": 4,
  "nbformat_minor": 0,
  "metadata": {
    "colab": {
      "provenance": []
    },
    "kernelspec": {
      "name": "python3",
      "display_name": "Python 3"
    },
    "language_info": {
      "name": "python"
    }
  },
  "cells": [
    {
      "cell_type": "code",
      "source": [
        "# Importing dependencies\n",
        "\n",
        "import numpy as np\n",
        "import pandas as pd\n",
        "import matplotlib.pyplot as plt\n",
        "import seaborn as sns"
      ],
      "metadata": {
        "id": "_gQDmFp1Gy4a"
      },
      "execution_count": 1,
      "outputs": []
    },
    {
      "cell_type": "code",
      "source": [
        "from sklearn.model_selection import train_test_split, GridSearchCV\n",
        "from sklearn.preprocessing import StandardScaler, OneHotEncoder\n",
        "from sklearn.compose import ColumnTransformer\n",
        "from sklearn.pipeline import Pipeline\n",
        "from sklearn.impute import SimpleImputer\n",
        "from sklearn.linear_model import LogisticRegression\n",
        "from sklearn.metrics import accuracy_score, confusion_matrix, classification_report"
      ],
      "metadata": {
        "id": "PTyeeGTyHbBi"
      },
      "execution_count": 2,
      "outputs": []
    },
    {
      "cell_type": "code",
      "source": [
        "from google.colab import drive\n",
        "import pandas as pd\n",
        "import os\n",
        "import gdown\n",
        "\n",
        "\n",
        "drive.mount('/content/drive')\n",
        "folder_path = \"/content/drive/My Drive/GDG_ML_WING_DATASET\"\n",
        "os.makedirs(folder_path, exist_ok=True)\n",
        "print(\"Folder ready at:\", folder_path)\n",
        "url = \"https://drive.google.com/file/d/1gyjh1b1bI2heFFOrMHLDXjJ7Zah9UYID/view?usp=drive_link\"\n",
        "file_id = url.split(\"/d/\")[1].split(\"/\")[0]\n",
        "download_url = f\"https://drive.google.com/uc?export=download&id={file_id}\"\n",
        "output = os.path.join(folder_path, \"data.csv\")\n",
        "if not os.path.exists(output):\n",
        "    print(\"Downloading file...\")\n",
        "    gdown.download(download_url, output, quiet=False)\n",
        "else:\n",
        "    print(\"File already exists at:\", output)\n",
        "DATA  = pd.read_csv(output)\n",
        "print(DATA.head())\n"
      ],
      "metadata": {
        "colab": {
          "base_uri": "https://localhost:8080/"
        },
        "id": "8NhWTAGvJrj0",
        "outputId": "18074f94-c0e7-4a68-b59f-6dfd0ee04eec"
      },
      "execution_count": 3,
      "outputs": [
        {
          "output_type": "stream",
          "name": "stdout",
          "text": [
            "Mounted at /content/drive\n",
            "Folder ready at: /content/drive/My Drive/GDG_ML_WING_DATASET\n",
            "File already exists at: /content/drive/My Drive/GDG_ML_WING_DATASET/data.csv\n",
            "   index       role committype                       fileextensions  \\\n",
            "0      0   frontend    feature                   [np.str_('js_ts')]   \n",
            "1      1   frontend    feature                     [np.str_('css')]   \n",
            "2      2  fullstack    feature                    [np.str_('html')]   \n",
            "3      3   frontend   refactor                   [np.str_('js_ts')]   \n",
            "4      4  fullstack    feature  [np.str_('js_ts'), np.str_('html')]   \n",
            "\n",
            "   numfileschanged  linesadded  linesdeleted  numcommentsadded  \\\n",
            "0                4         312           100                 2   \n",
            "1                4         191            74                 2   \n",
            "2                4         275           146                 4   \n",
            "3                4         245           164                 2   \n",
            "4                2         692           378                 5   \n",
            "\n",
            "     timeofcommit                                      commitmessage  \n",
            "0    Friday 17:00  \"Implement responsive UI component with dropdo...  \n",
            "1    Friday 20:00  \"Refactor UI components: Implement responsive ...  \n",
            "2  Thursday 21:00  \"feat: Implement responsive UI layout with mod...  \n",
            "3  Thursday 18:00  \"Refactored UI components for responsive layou...  \n",
            "4    Sunday 20:00  \"feat: Implement responsive UI layout for logi...  \n"
          ]
        }
      ]
    },
    {
      "cell_type": "code",
      "source": [
        "# Basic exploration\n",
        "print(\"Shape of dataset:\", DATA.shape)\n",
        "print(\"\\nColumn names:\", DATA.columns.tolist())\n"
      ],
      "metadata": {
        "colab": {
          "base_uri": "https://localhost:8080/"
        },
        "id": "rP6TfkHqKtWK",
        "outputId": "d42244d6-b535-46a6-dc18-896ea88778a0"
      },
      "execution_count": 4,
      "outputs": [
        {
          "output_type": "stream",
          "name": "stdout",
          "text": [
            "Shape of dataset: (1500, 10)\n",
            "\n",
            "Column names: ['index', 'role', 'committype', 'fileextensions', 'numfileschanged', 'linesadded', 'linesdeleted', 'numcommentsadded', 'timeofcommit', 'commitmessage']\n"
          ]
        }
      ]
    },
    {
      "cell_type": "code",
      "source": [
        "# Data info\n",
        "print(\"\\nDataset Info:\")\n",
        "print(DATA.info())"
      ],
      "metadata": {
        "colab": {
          "base_uri": "https://localhost:8080/"
        },
        "id": "p4DdhaJmK-T2",
        "outputId": "fbe19e86-9b55-4a5a-9329-2d11e32866e9"
      },
      "execution_count": 5,
      "outputs": [
        {
          "output_type": "stream",
          "name": "stdout",
          "text": [
            "\n",
            "Dataset Info:\n",
            "<class 'pandas.core.frame.DataFrame'>\n",
            "RangeIndex: 1500 entries, 0 to 1499\n",
            "Data columns (total 10 columns):\n",
            " #   Column            Non-Null Count  Dtype \n",
            "---  ------            --------------  ----- \n",
            " 0   index             1500 non-null   int64 \n",
            " 1   role              1500 non-null   object\n",
            " 2   committype        1500 non-null   object\n",
            " 3   fileextensions    1500 non-null   object\n",
            " 4   numfileschanged   1500 non-null   int64 \n",
            " 5   linesadded        1500 non-null   int64 \n",
            " 6   linesdeleted      1500 non-null   int64 \n",
            " 7   numcommentsadded  1500 non-null   int64 \n",
            " 8   timeofcommit      1500 non-null   object\n",
            " 9   commitmessage     1500 non-null   object\n",
            "dtypes: int64(5), object(5)\n",
            "memory usage: 117.3+ KB\n",
            "None\n"
          ]
        }
      ]
    },
    {
      "cell_type": "code",
      "source": [
        "# Quick statistics\n",
        "print(\"\\nSummary Statistics:\")\n",
        "print(DATA.describe(include='all'))"
      ],
      "metadata": {
        "colab": {
          "base_uri": "https://localhost:8080/"
        },
        "id": "0W7y2r5TMBJ2",
        "outputId": "038131e0-b529-443d-b509-33f7c7ff23d2"
      },
      "execution_count": 6,
      "outputs": [
        {
          "output_type": "stream",
          "name": "stdout",
          "text": [
            "\n",
            "Summary Statistics:\n",
            "              index     role committype   fileextensions  numfileschanged  \\\n",
            "count   1500.000000     1500       1500             1500      1500.000000   \n",
            "unique          NaN        4          4              278              NaN   \n",
            "top             NaN  backend    feature  [np.str_('py')]              NaN   \n",
            "freq            NaN      484        596              202              NaN   \n",
            "mean     749.500000      NaN        NaN              NaN         3.810667   \n",
            "std      433.157015      NaN        NaN              NaN         2.544891   \n",
            "min        0.000000      NaN        NaN              NaN         1.000000   \n",
            "25%      374.750000      NaN        NaN              NaN         2.000000   \n",
            "50%      749.500000      NaN        NaN              NaN         3.000000   \n",
            "75%     1124.250000      NaN        NaN              NaN         5.000000   \n",
            "max     1499.000000      NaN        NaN              NaN        18.000000   \n",
            "\n",
            "         linesadded  linesdeleted  numcommentsadded     timeofcommit  \\\n",
            "count   1500.000000   1500.000000       1500.000000             1500   \n",
            "unique          NaN           NaN               NaN              160   \n",
            "top             NaN           NaN               NaN  Wednesday 15:00   \n",
            "freq            NaN           NaN               NaN               27   \n",
            "mean     183.698667     92.474000          3.164667              NaN   \n",
            "std      258.709634    150.131266          1.891367              NaN   \n",
            "min        8.000000      1.000000          0.000000              NaN   \n",
            "25%       54.000000     17.000000          2.000000              NaN   \n",
            "50%      103.000000     45.000000          3.000000              NaN   \n",
            "75%      206.250000    102.000000          4.000000              NaN   \n",
            "max     3038.000000   1992.000000         12.000000              NaN   \n",
            "\n",
            "                                            commitmessage  \n",
            "count                                                1500  \n",
            "unique                                               1462  \n",
            "top     \"Fixed authentication logic in backend API: va...  \n",
            "freq                                                    8  \n",
            "mean                                                  NaN  \n",
            "std                                                   NaN  \n",
            "min                                                   NaN  \n",
            "25%                                                   NaN  \n",
            "50%                                                   NaN  \n",
            "75%                                                   NaN  \n",
            "max                                                   NaN  \n"
          ]
        }
      ]
    },
    {
      "cell_type": "code",
      "source": [
        "# Check missing values\n",
        "print(\"\\nMissing values per column:\")\n",
        "print(DATA.isnull().sum())"
      ],
      "metadata": {
        "colab": {
          "base_uri": "https://localhost:8080/"
        },
        "id": "A-AgdmlUOd6j",
        "outputId": "313a5a9e-b828-40b3-e028-3e33c0359875"
      },
      "execution_count": 7,
      "outputs": [
        {
          "output_type": "stream",
          "name": "stdout",
          "text": [
            "\n",
            "Missing values per column:\n",
            "index               0\n",
            "role                0\n",
            "committype          0\n",
            "fileextensions      0\n",
            "numfileschanged     0\n",
            "linesadded          0\n",
            "linesdeleted        0\n",
            "numcommentsadded    0\n",
            "timeofcommit        0\n",
            "commitmessage       0\n",
            "dtype: int64\n"
          ]
        }
      ]
    },
    {
      "cell_type": "code",
      "source": [
        "# Check target distribution\n",
        "if \"role\" in DATA.columns:\n",
        "    sns.countplot(data=DATA, x=\"role\")\n",
        "    plt.title(\"Target Distribution\")\n",
        "    plt.show()\n",
        "else:\n",
        "    print(\"Target column not yet identified, please confirm its name\")"
      ],
      "metadata": {
        "id": "MCMaNjt7QH-S",
        "colab": {
          "base_uri": "https://localhost:8080/",
          "height": 472
        },
        "outputId": "a043d511-57cf-40c6-e307-4ed8736e0d5f"
      },
      "execution_count": 8,
      "outputs": [
        {
          "output_type": "display_data",
          "data": {
            "text/plain": [
              "<Figure size 640x480 with 1 Axes>"
            ],
            "image/png": "[encoded data removed]"
          },
          "metadata": {}
        }
      ]
    },
    {
      "cell_type": "code",
      "source": [
        "# Define target and features\n",
        "X = DATA.drop(columns=[\"role\"])   # Features\n",
        "y = DATA[\"role\"]                  # Target"
      ],
      "metadata": {
        "id": "SbkwOX8kRv3n"
      },
      "execution_count": 9,
      "outputs": []
    },
    {
      "cell_type": "code",
      "source": [
        "# Detect numeric and categorical columns\n",
        "numeric_features = X.select_dtypes(include=[\"int64\", \"float64\"]).columns.tolist()\n",
        "categorical_features = X.select_dtypes(include=[\"object\"]).columns.tolist()\n",
        "\n",
        "print(\"Numeric features:\", numeric_features)\n",
        "print(\"Categorical features:\", categorical_features)"
      ],
      "metadata": {
        "id": "gpjnS0FrdvUU",
        "colab": {
          "base_uri": "https://localhost:8080/"
        },
        "outputId": "a24a8e1c-3e38-458a-a458-902cee42d0e9"
      },
      "execution_count": 10,
      "outputs": [
        {
          "output_type": "stream",
          "name": "stdout",
          "text": [
            "Numeric features: ['index', 'numfileschanged', 'linesadded', 'linesdeleted', 'numcommentsadded']\n",
            "Categorical features: ['committype', 'fileextensions', 'timeofcommit', 'commitmessage']\n"
          ]
        }
      ]
    },
    {
      "cell_type": "code",
      "source": [
        "import re\n",
        "import nltk\n",
        "nltk.download(\"stopwords\")\n",
        "from nltk.corpus import stopwords\n",
        "\n",
        "STOPWORDS = set(stopwords.words(\"english\"))\n",
        "\n",
        "def clean_text(text):\n",
        "    text = text.lower()\n",
        "    text = re.sub(r\"http\\S+|www\\S+\", \"\", text)   # remove URLs\n",
        "    text = re.sub(r\"[^a-z\\s]\", \"\", text)         # remove non-alphabets\n",
        "    text = re.sub(r\"\\s+\", \" \", text).strip()     # remove extra spaces\n",
        "    text = \" \".join([w for w in text.split() if w not in STOPWORDS])\n",
        "    return text\n",
        "\n",
        "DATA[\"clean_commit\"] = DATA[\"commitmessage\"].astype(str).apply(clean_text)\n",
        "\n",
        "DATA[[\"commitmessage\", \"clean_commit\"]].head(10)\n"
      ],
      "metadata": {
        "colab": {
          "base_uri": "https://localhost:8080/",
          "height": 397
        },
        "id": "N7_uWbTOdvMy",
        "outputId": "c1879d49-dd73-4fdd-c646-a0542fbb9b27"
      },
      "execution_count": 11,
      "outputs": [
        {
          "output_type": "stream",
          "name": "stderr",
          "text": [
            "[nltk_data] Downloading package stopwords to /root/nltk_data...\n",
            "[nltk_data]   Unzipping corpora/stopwords.zip.\n"
          ]
        },
        {
          "output_type": "execute_result",
          "data": {
            "text/plain": [
              "                                       commitmessage  \\\n",
              "0  \"Implement responsive UI component with dropdo...   \n",
              "1  \"Refactor UI components: Implement responsive ...   \n",
              "2  \"feat: Implement responsive UI layout with mod...   \n",
              "3  \"Refactored UI components for responsive layou...   \n",
              "4  \"feat: Implement responsive UI layout for logi...   \n",
              "5  \"Refactor UI component: add responsive theme s...   \n",
              "6  \"Fixed authentication logic in backend API: va...   \n",
              "7  \"Fixed authentication logic: validated API end...   \n",
              "8  \"feat: Implemented responsive UI component wit...   \n",
              "9  \"Implement authentication logic for API endpoi...   \n",
              "\n",
              "                                        clean_commit  \n",
              "0  implement responsive ui component dropdown mod...  \n",
              "1  refactor ui components implement responsive th...  \n",
              "2  feat implement responsive ui layout modal drop...  \n",
              "3  refactored ui components responsive layout css...  \n",
              "4  feat implement responsive ui layout login page...  \n",
              "5  refactor ui component add responsive theme sty...  \n",
              "6  fixed authentication logic backend api validat...  \n",
              "7  fixed authentication logic validated api endpo...  \n",
              "8  feat implemented responsive ui component modal...  \n",
              "9  implement authentication logic api endpoint ad...  "
            ],
            "text/html": [
              "\n",
              "  <div id=\"df-6386b9bc-aed0-422b-b329-72945b080791\" class=\"colab-df-container\">\n",
              "    <div>\n",
              "<style scoped>\n",
              "    .dataframe tbody tr th:only-of-type {\n",
              "        vertical-align: middle;\n",
              "    }\n",
              "\n",
              "    .dataframe tbody tr th {\n",
              "        vertical-align: top;\n",
              "    }\n",
              "\n",
              "    .dataframe thead th {\n",
              "        text-align: right;\n",
              "    }\n",
              "</style>\n",
              "<table border=\"1\" class=\"dataframe\">\n",
              "  <thead>\n",
              "    <tr style=\"text-align: right;\">\n",
              "      <th></th>\n",
              "      <th>commitmessage</th>\n",
              "      <th>clean_commit</th>\n",
              "    </tr>\n",
              "  </thead>\n",
              "  <tbody>\n",
              "    <tr>\n",
              "      <th>0</th>\n",
              "      <td>\"Implement responsive UI component with dropdo...</td>\n",
              "      <td>implement responsive ui component dropdown mod...</td>\n",
              "    </tr>\n",
              "    <tr>\n",
              "      <th>1</th>\n",
              "      <td>\"Refactor UI components: Implement responsive ...</td>\n",
              "      <td>refactor ui components implement responsive th...</td>\n",
              "    </tr>\n",
              "    <tr>\n",
              "      <th>2</th>\n",
              "      <td>\"feat: Implement responsive UI layout with mod...</td>\n",
              "      <td>feat implement responsive ui layout modal drop...</td>\n",
              "    </tr>\n",
              "    <tr>\n",
              "      <th>3</th>\n",
              "      <td>\"Refactored UI components for responsive layou...</td>\n",
              "      <td>refactored ui components responsive layout css...</td>\n",
              "    </tr>\n",
              "    <tr>\n",
              "      <th>4</th>\n",
              "      <td>\"feat: Implement responsive UI layout for logi...</td>\n",
              "      <td>feat implement responsive ui layout login page...</td>\n",
              "    </tr>\n",
              "    <tr>\n",
              "      <th>5</th>\n",
              "      <td>\"Refactor UI component: add responsive theme s...</td>\n",
              "      <td>refactor ui component add responsive theme sty...</td>\n",
              "    </tr>\n",
              "    <tr>\n",
              "      <th>6</th>\n",
              "      <td>\"Fixed authentication logic in backend API: va...</td>\n",
              "      <td>fixed authentication logic backend api validat...</td>\n",
              "    </tr>\n",
              "    <tr>\n",
              "      <th>7</th>\n",
              "      <td>\"Fixed authentication logic: validated API end...</td>\n",
              "      <td>fixed authentication logic validated api endpo...</td>\n",
              "    </tr>\n",
              "    <tr>\n",
              "      <th>8</th>\n",
              "      <td>\"feat: Implemented responsive UI component wit...</td>\n",
              "      <td>feat implemented responsive ui component modal...</td>\n",
              "    </tr>\n",
              "    <tr>\n",
              "      <th>9</th>\n",
              "      <td>\"Implement authentication logic for API endpoi...</td>\n",
              "      <td>implement authentication logic api endpoint ad...</td>\n",
              "    </tr>\n",
              "  </tbody>\n",
              "</table>\n",
              "</div>\n",
              "    <div class=\"colab-df-buttons\">\n",
              "\n",
              "  <div class=\"colab-df-container\">\n",
              "    <button class=\"colab-df-convert\" onclick=\"convertToInteractive('df-6386b9bc-aed0-422b-b329-72945b080791')\"\n",
              "            title=\"Convert this dataframe to an interactive table.\"\n",
              "            style=\"display:none;\">\n",
              "\n",
              "  <svg xmlns=\"http://www.w3.org/2000/svg\" height=\"24px\" viewBox=\"0 -960 960 960\">\n",
              "    <path d=\"M120-120v-720h720v720H120Zm60-500h600v-160H180v160Zm220 220h160v-160H400v160Zm0 220h160v-160H400v160ZM180-400h160v-160H180v160Zm440 0h160v-160H620v160ZM180-180h160v-160H180v160Zm440 0h160v-160H620v160Z\"/>\n",
              "  </svg>\n",
              "    </button>\n",
              "\n",
              "  <style>\n",
              "    .colab-df-container {\n",
              "      display:flex;\n",
              "      gap: 12px;\n",
              "    }\n",
              "\n",
              "    .colab-df-convert {\n",
              "      background-color: #E8F0FE;\n",
              "      border: none;\n",
              "      border-radius: 50%;\n",
              "      cursor: pointer;\n",
              "      display: none;\n",
              "      fill: #1967D2;\n",
              "      height: 32px;\n",
              "      padding: 0 0 0 0;\n",
              "      width: 32px;\n",
              "    }\n",
              "\n",
              "    .colab-df-convert:hover {\n",
              "      background-color: #E2EBFA;\n",
              "      box-shadow: 0px 1px 2px rgba(60, 64, 67, 0.3), 0px 1px 3px 1px rgba(60, 64, 67, 0.15);\n",
              "      fill: #174EA6;\n",
              "    }\n",
              "\n",
              "    .colab-df-buttons div {\n",
              "      margin-bottom: 4px;\n",
              "    }\n",
              "\n",
              "    [theme=dark] .colab-df-convert {\n",
              "      background-color: #3B4455;\n",
              "      fill: #D2E3FC;\n",
              "    }\n",
              "\n",
              "    [theme=dark] .colab-df-convert:hover {\n",
              "      background-color: #434B5C;\n",
              "      box-shadow: 0px 1px 3px 1px rgba(0, 0, 0, 0.15);\n",
              "      filter: drop-shadow(0px 1px 2px rgba(0, 0, 0, 0.3));\n",
              "      fill: #FFFFFF;\n",
              "    }\n",
              "  </style>\n",
              "\n",
              "    <script>\n",
              "      const buttonEl =\n",
              "        document.querySelector('#df-6386b9bc-aed0-422b-b329-72945b080791 button.colab-df-convert');\n",
              "      buttonEl.style.display =\n",
              "        google.colab.kernel.accessAllowed ? 'block' : 'none';\n",
              "\n",
              "      async function convertToInteractive(key) {\n",
              "        const element = document.querySelector('#df-6386b9bc-aed0-422b-b329-72945b080791');\n",
              "        const dataTable =\n",
              "          await google.colab.kernel.invokeFunction('convertToInteractive',\n",
              "                                                    [key], {});\n",
              "        if (!dataTable) return;\n",
              "\n",
              "        const docLinkHtml = 'Like what you see? Visit the ' +\n",
              "          '<a target=\"_blank\" href=https://colab.research.google.com/notebooks/data_table.ipynb>data table notebook</a>'\n",
              "          + ' to learn more about interactive tables.';\n",
              "        element.innerHTML = '';\n",
              "        dataTable['output_type'] = 'display_data';\n",
              "        await google.colab.output.renderOutput(dataTable, element);\n",
              "        const docLink = document.createElement('div');\n",
              "        docLink.innerHTML = docLinkHtml;\n",
              "        element.appendChild(docLink);\n",
              "      }\n",
              "    </script>\n",
              "  </div>\n",
              "\n",
              "\n",
              "    <div id=\"df-c37f8cd5-3510-441c-a588-f86425296876\">\n",
              "      <button class=\"colab-df-quickchart\" onclick=\"quickchart('df-c37f8cd5-3510-441c-a588-f86425296876')\"\n",
              "                title=\"Suggest charts\"\n",
              "                style=\"display:none;\">\n",
              "\n",
              "<svg xmlns=\"http://www.w3.org/2000/svg\" height=\"24px\"viewBox=\"0 0 24 24\"\n",
              "     width=\"24px\">\n",
              "    <g>\n",
              "        <path d=\"M19 3H5c-1.1 0-2 .9-2 2v14c0 1.1.9 2 2 2h14c1.1 0 2-.9 2-2V5c0-1.1-.9-2-2-2zM9 17H7v-7h2v7zm4 0h-2V7h2v10zm4 0h-2v-4h2v4z\"/>\n",
              "    </g>\n",
              "</svg>\n",
              "      </button>\n",
              "\n",
              "<style>\n",
              "  .colab-df-quickchart {\n",
              "      --bg-color: #E8F0FE;\n",
              "      --fill-color: #1967D2;\n",
              "      --hover-bg-color: #E2EBFA;\n",
              "      --hover-fill-color: #174EA6;\n",
              "      --disabled-fill-color: #AAA;\n",
              "      --disabled-bg-color: #DDD;\n",
              "  }\n",
              "\n",
              "  [theme=dark] .colab-df-quickchart {\n",
              "      --bg-color: #3B4455;\n",
              "      --fill-color: #D2E3FC;\n",
              "      --hover-bg-color: #434B5C;\n",
              "      --hover-fill-color: #FFFFFF;\n",
              "      --disabled-bg-color: #3B4455;\n",
              "      --disabled-fill-color: #666;\n",
              "  }\n",
              "\n",
              "  .colab-df-quickchart {\n",
              "    background-color: var(--bg-color);\n",
              "    border: none;\n",
              "    border-radius: 50%;\n",
              "    cursor: pointer;\n",
              "    display: none;\n",
              "    fill: var(--fill-color);\n",
              "    height: 32px;\n",
              "    padding: 0;\n",
              "    width: 32px;\n",
              "  }\n",
              "\n",
              "  .colab-df-quickchart:hover {\n",
              "    background-color: var(--hover-bg-color);\n",
              "    box-shadow: 0 1px 2px rgba(60, 64, 67, 0.3), 0 1px 3px 1px rgba(60, 64, 67, 0.15);\n",
              "    fill: var(--button-hover-fill-color);\n",
              "  }\n",
              "\n",
              "  .colab-df-quickchart-complete:disabled,\n",
              "  .colab-df-quickchart-complete:disabled:hover {\n",
              "    background-color: var(--disabled-bg-color);\n",
              "    fill: var(--disabled-fill-color);\n",
              "    box-shadow: none;\n",
              "  }\n",
              "\n",
              "  .colab-df-spinner {\n",
              "    border: 2px solid var(--fill-color);\n",
              "    border-color: transparent;\n",
              "    border-bottom-color: var(--fill-color);\n",
              "    animation:\n",
              "      spin 1s steps(1) infinite;\n",
              "  }\n",
              "\n",
              "  @keyframes spin {\n",
              "    0% {\n",
              "      border-color: transparent;\n",
              "      border-bottom-color: var(--fill-color);\n",
              "      border-left-color: var(--fill-color);\n",
              "    }\n",
              "    20% {\n",
              "      border-color: transparent;\n",
              "      border-left-color: var(--fill-color);\n",
              "      border-top-color: var(--fill-color);\n",
              "    }\n",
              "    30% {\n",
              "      border-color: transparent;\n",
              "      border-left-color: var(--fill-color);\n",
              "      border-top-color: var(--fill-color);\n",
              "      border-right-color: var(--fill-color);\n",
              "    }\n",
              "    40% {\n",
              "      border-color: transparent;\n",
              "      border-right-color: var(--fill-color);\n",
              "      border-top-color: var(--fill-color);\n",
              "    }\n",
              "    60% {\n",
              "      border-color: transparent;\n",
              "      border-right-color: var(--fill-color);\n",
              "    }\n",
              "    80% {\n",
              "      border-color: transparent;\n",
              "      border-right-color: var(--fill-color);\n",
              "      border-bottom-color: var(--fill-color);\n",
              "    }\n",
              "    90% {\n",
              "      border-color: transparent;\n",
              "      border-bottom-color: var(--fill-color);\n",
              "    }\n",
              "  }\n",
              "</style>\n",
              "\n",
              "      <script>\n",
              "        async function quickchart(key) {\n",
              "          const quickchartButtonEl =\n",
              "            document.querySelector('#' + key + ' button');\n",
              "          quickchartButtonEl.disabled = true;  // To prevent multiple clicks.\n",
              "          quickchartButtonEl.classList.add('colab-df-spinner');\n",
              "          try {\n",
              "            const charts = await google.colab.kernel.invokeFunction(\n",
              "                'suggestCharts', [key], {});\n",
              "          } catch (error) {\n",
              "            console.error('Error during call to suggestCharts:', error);\n",
              "          }\n",
              "          quickchartButtonEl.classList.remove('colab-df-spinner');\n",
              "          quickchartButtonEl.classList.add('colab-df-quickchart-complete');\n",
              "        }\n",
              "        (() => {\n",
              "          let quickchartButtonEl =\n",
              "            document.querySelector('#df-c37f8cd5-3510-441c-a588-f86425296876 button');\n",
              "          quickchartButtonEl.style.display =\n",
              "            google.colab.kernel.accessAllowed ? 'block' : 'none';\n",
              "        })();\n",
              "      </script>\n",
              "    </div>\n",
              "\n",
              "    </div>\n",
              "  </div>\n"
            ],
            "application/vnd.google.colaboratory.intrinsic+json": {
              "type": "dataframe",
              "summary": "{\n  \"name\": \"DATA[[\\\"commitmessage\\\", \\\"clean_commit\\\"]]\",\n  \"rows\": 10,\n  \"fields\": [\n    {\n      \"column\": \"commitmessage\",\n      \"properties\": {\n        \"dtype\": \"string\",\n        \"num_unique_values\": 10,\n        \"samples\": [\n          \"\\\"feat: Implemented responsive UI component with modal and dropdown for login page, refactored CSS and layout to enhance theme and style consistency, added API and database validation for authentication and session management.\\\"\",\n          \"\\\"Refactor UI components: Implement responsive theme for dropdowns and buttons, update CSS layout for modal and navigation widgets, enhance form styling and animation.\\\"\",\n          \"\\\"Refactor UI component: add responsive theme style to navigation dropdown and modal form widget\\\"\"\n        ],\n        \"semantic_type\": \"\",\n        \"description\": \"\"\n      }\n    },\n    {\n      \"column\": \"clean_commit\",\n      \"properties\": {\n        \"dtype\": \"string\",\n        \"num_unique_values\": 10,\n        \"samples\": [\n          \"feat implemented responsive ui component modal dropdown login page refactored css layout enhance theme style consistency added api database validation authentication session management\",\n          \"refactor ui components implement responsive theme dropdowns buttons update css layout modal navigation widgets enhance form styling animation\",\n          \"refactor ui component add responsive theme style navigation dropdown modal form widget\"\n        ],\n        \"semantic_type\": \"\",\n        \"description\": \"\"\n      }\n    }\n  ]\n}"
            }
          },
          "metadata": {},
          "execution_count": 11
        }
      ]
    },
    {
      "cell_type": "code",
      "source": [
        "from sklearn.preprocessing import OneHotEncoder\n",
        "\n",
        "categorical_cols = [\"committype\", \"fileextensions\", \"timeofcommit\"]\n",
        "\n",
        "ohe = OneHotEncoder(handle_unknown=\"ignore\")\n",
        "cat_features = ohe.fit_transform(DATA[categorical_cols])\n",
        "\n",
        "print(\"Categorical feature shape:\", cat_features.shape)\n"
      ],
      "metadata": {
        "colab": {
          "base_uri": "https://localhost:8080/"
        },
        "id": "VHVinJKZTWn1",
        "outputId": "bf7a190b-0cff-4c9a-9b80-4fac279e5129"
      },
      "execution_count": 12,
      "outputs": [
        {
          "output_type": "stream",
          "name": "stdout",
          "text": [
            "Categorical feature shape: (1500, 442)\n"
          ]
        }
      ]
    },
    {
      "cell_type": "code",
      "source": [
        "from sklearn.preprocessing import StandardScaler\n",
        "\n",
        "num_cols = [\"numfileschanged\", \"linesadded\", \"linesdeleted\", \"numcommentsadded\"]\n",
        "\n",
        "scaler = StandardScaler()\n",
        "num_features = scaler.fit_transform(DATA[num_cols])\n",
        "\n",
        "print(\"Numerical feature shape:\", num_features.shape)\n"
      ],
      "metadata": {
        "colab": {
          "base_uri": "https://localhost:8080/"
        },
        "id": "YzbiyF-FpPMp",
        "outputId": "39d40052-7cd5-4875-936b-4e16effc0c86"
      },
      "execution_count": 13,
      "outputs": [
        {
          "output_type": "stream",
          "name": "stdout",
          "text": [
            "Numerical feature shape: (1500, 4)\n"
          ]
        }
      ]
    },
    {
      "cell_type": "code",
      "source": [
        "from sklearn.feature_extraction.text import TfidfVectorizer\n",
        "\n",
        "tfidf = TfidfVectorizer(max_features=5000, ngram_range=(1,2))\n",
        "text_features = tfidf.fit_transform(DATA[\"clean_commit\"])\n",
        "\n",
        "print(\"Text feature shape:\", text_features.shape)\n"
      ],
      "metadata": {
        "colab": {
          "base_uri": "https://localhost:8080/"
        },
        "id": "Ky4UpKOmpR3p",
        "outputId": "b2ebe334-54bc-422c-c430-983540aefc72"
      },
      "execution_count": 14,
      "outputs": [
        {
          "output_type": "stream",
          "name": "stdout",
          "text": [
            "Text feature shape: (1500, 5000)\n"
          ]
        }
      ]
    },
    {
      "cell_type": "code",
      "source": [
        "from scipy.sparse import hstack\n",
        "\n",
        "X = hstack([text_features, cat_features, num_features])\n",
        "y = DATA[\"role\"]\n",
        "\n",
        "print(\"Final feature matrix shape:\", X.shape)\n"
      ],
      "metadata": {
        "colab": {
          "base_uri": "https://localhost:8080/"
        },
        "id": "Oa3vWyAGptIi",
        "outputId": "3c0ec15a-d143-4d22-a11c-8807d1bc74dc"
      },
      "execution_count": 15,
      "outputs": [
        {
          "output_type": "stream",
          "name": "stdout",
          "text": [
            "Final feature matrix shape: (1500, 5446)\n"
          ]
        }
      ]
    },
    {
      "cell_type": "code",
      "source": [
        "file_dest = '/content/drive/My Drive/GDG_ML_WING_DATASET/preprocesss_dataset.csv' #SAVING THE MODIFIED VERSION\n",
        "try:\n",
        "    DATA.to_csv(file_dest, index=False)\n",
        "    print(\"File saved successfully to:\", file_dest)\n",
        "except Exception as e:\n",
        "    print(\"Error saving file:\",e)"
      ],
      "metadata": {
        "colab": {
          "base_uri": "https://localhost:8080/"
        },
        "id": "ghdLuYM8vqWE",
        "outputId": "6d0a2257-65b6-48ba-b406-e620cee46f16"
      },
      "execution_count": 16,
      "outputs": [
        {
          "output_type": "stream",
          "name": "stdout",
          "text": [
            "File saved successfully to: /content/drive/My Drive/GDG_ML_WING_DATASET/preprocesss_dataset.csv\n"
          ]
        }
      ]
    },
    {
      "cell_type": "code",
      "source": [],
      "metadata": {
        "id": "zZzNMNWXvvaa"
      },
      "execution_count": 16,
      "outputs": []
    }
  ]
}